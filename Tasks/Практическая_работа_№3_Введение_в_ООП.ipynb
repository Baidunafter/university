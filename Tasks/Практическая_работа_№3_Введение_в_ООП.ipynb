{
  "nbformat": 4,
  "nbformat_minor": 0,
  "metadata": {
    "colab": {
      "provenance": [],
      "include_colab_link": true
    },
    "kernelspec": {
      "name": "python3",
      "display_name": "Python 3"
    },
    "language_info": {
      "name": "python"
    }
  },
  "cells": [
    {
      "cell_type": "markdown",
      "metadata": {
        "id": "view-in-github",
        "colab_type": "text"
      },
      "source": [
        "<a href=\"https://colab.research.google.com/github/Baidunafter/university/blob/main/Tasks/%D0%9F%D1%80%D0%B0%D0%BA%D1%82%D0%B8%D1%87%D0%B5%D1%81%D0%BA%D0%B0%D1%8F_%D1%80%D0%B0%D0%B1%D0%BE%D1%82%D0%B0_%E2%84%963_%D0%92%D0%B2%D0%B5%D0%B4%D0%B5%D0%BD%D0%B8%D0%B5_%D0%B2_%D0%9E%D0%9E%D0%9F.ipynb\" target=\"_parent\"><img src=\"https://colab.research.google.com/assets/colab-badge.svg\" alt=\"Open In Colab\"/></a>"
      ]
    },
    {
      "cell_type": "markdown",
      "source": [
        "# **Практическая работа №3. Введение в ООП**\n",
        "\n",
        "\n"
      ],
      "metadata": {
        "id": "s-EuQCpnWXCn"
      }
    },
    {
      "cell_type": "markdown",
      "source": [
        "## **Задание №1. Создайте класс Sphere для представления сферы в трехмерном пространстве**\n"
      ],
      "metadata": {
        "id": "TQ5SpdjdbD4D"
      }
    },
    {
      "cell_type": "markdown",
      "source": [
        "Обеспечьте следующие методы класса:\n",
        "\n",
        "1. Конструктор, принимающий 4 действительных числа: радиус, и 3 координаты центра шара. Если конструктор вызывается без аргументов, создать объект сферы с единичным радиусом и центром в начале координат. Если конструктор вызывается с аргументом, создать объект сферы с соответствующим радиусом и центром в начале координат.\n",
        "\n",
        "2. Метод get_volume (), который возвращает действительное число — объем шара, ограниченной текущей сферой.\n",
        "\n",
        "3. Метод get_square (), который возвращает действительное число — площадь внешней поверхности сферы.\n",
        "\n",
        "4. Метод get_radius (), который возвращает действительное число — радиус сферы.\n",
        "\n",
        "5. Метод get_center (), который возвращает тьюпл с 3 действительными числами — координатами центра сферы в том же порядке, в каком они задаются в конструкторе.\n",
        "\n",
        "6. Метод set_radius (r), который принимает 1 аргумент — действительное число, и меняет радиус текущей сферы, ничего не возвращая.\n",
        "\n",
        "7. Метод set_center (x, y, z), который принимает 3 аргумента — действительных числа, и меняет координаты центра сферы, ничего не возвращая. Координаты задаются в том же порядке, что и в конструкторе.\n",
        "\n",
        "8. Метод is_point_inside (x, y, z), который принимает 3 аргумента — действительных числа — координаты некоторой точки в пространстве (в том же порядке, что и в конструкторе), и возвращает логическое значение True или False в зависимости от того, находится эта точка внутри сферы."
      ],
      "metadata": {
        "id": "Q5Ow51wfASZH"
      }
    },
    {
      "cell_type": "code",
      "source": [
        "from math import pi, pow\n",
        "\n",
        "class Sphere:\n",
        "  def __init__(self, r: float = 1, x: float = 0, y: float = 0, z: float = 0):\n",
        "    '''\n",
        "    Конструктор, принимающий 4 действительных числа: радиус, и 3 координаты центра шара.\n",
        "    Если конструктор вызывается без аргументов, создать объект сферы с единичным радиусом\n",
        "    и центром в начале координат. Если конструктор вызывается с аргументом, создать объект\n",
        "    сферы с соответствующим радиусом и центром в начале координат.\n",
        "    '''\n",
        "    self.r = r\n",
        "    self.x = x\n",
        "    self.y = y\n",
        "    self.z = z\n",
        "  def get_volume(self) -> float:\n",
        "    '''\n",
        "    Возвращает действительное число — объем шара, ограниченной текущей сферой.\n",
        "    '''\n",
        "    return 4/3 * pi * pow(self.r, 3)\n",
        "  def get_square(r):\n",
        "    '''\n",
        "    Возвращает действительное число — площадь внешней поверхности сферы.\n",
        "    '''\n",
        "    return 4 * pi * pow(self.r, 2)\n",
        "  def get_radius(self) -> float:\n",
        "     '''\n",
        "     Возвращает действительное число — радиус сферы.\n",
        "     '''\n",
        "     return self.r\n",
        "  def get_center(self) -> tuple:\n",
        "    '''\n",
        "    Возвращает тьюпл с 3 действительными числами — координатами центра сферы в том же порядке, в каком они задаются в конструкторе.\n",
        "    '''\n",
        "    return (self.x, self.y, self.z)\n",
        "  def set_radius(self, r: float) -> None:\n",
        "    '''\n",
        "    Принимает 1 аргумент — действительное число, и меняет радиус текущей сферы, ничего не возвращая.\n",
        "    '''\n",
        "    self.r = r\n",
        "  def set_center(self, x, y, z) -> None:\n",
        "    '''\n",
        "    Принимает 1 аргумент — действительное число, и меняет радиус текущей сферы, ничего не возвращая.\n",
        "    '''\n",
        "    self.x = x, self.y = y, self.z = z\n",
        "  def is_point_inside(self, x, y, z) -> bool:\n",
        "    '''\n",
        "    Принимает 3 аргумента — действительных числа — координаты некоторой точки в пространстве (в том же порядке, что и в конструкторе),\n",
        "    и возвращает логическое значение True или False в зависимости от того, находится эта точка внутри сферы.\n",
        "    '''\n",
        "    distance_squared = pow(x - self.x, 2) + pow(y - self.y, 2) + pow(z - self.z, 2)\n",
        "    return distance_squared <= pow(self.r, 2)\n"
      ],
      "metadata": {
        "id": "d-vd-AYRdBId"
      },
      "execution_count": 1,
      "outputs": []
    },
    {
      "cell_type": "code",
      "source": [
        "# Тесты\n",
        "\n",
        "s0 = Sphere(0.5) # test sphere creation with radius and default center\n",
        "print(s0.get_center()) # (0.0, 0.0, 0.0)\n",
        "print(s0.get_volume()) # 0.523598775598\n",
        "print(s0.is_point_inside(0 , -1.5, 0)) # False\n",
        "s0.set_radius(1.6)\n",
        "print(s0.is_point_inside(0, -1.5, 0)) # True\n",
        "print(s0.get_radius()) # 1.6"
      ],
      "metadata": {
        "colab": {
          "base_uri": "https://localhost:8080/"
        },
        "id": "2Yr8cTaQ5F0Z",
        "outputId": "16bedd00-9c7e-492b-cbec-69305be15d0f"
      },
      "execution_count": 2,
      "outputs": [
        {
          "output_type": "stream",
          "name": "stdout",
          "text": [
            "(0, 0, 0)\n",
            "0.5235987755982988\n",
            "False\n",
            "True\n",
            "1.6\n"
          ]
        }
      ]
    },
    {
      "cell_type": "markdown",
      "source": [
        "## **Задание №2. Создайте класс SuperStr, который наследует стандартный класс str и содержит 2 новых метода:**"
      ],
      "metadata": {
        "id": "UuJ9K_zAcaY_"
      }
    },
    {
      "cell_type": "markdown",
      "source": [
        "1. Метод is_repeatance (s), который принимает 1 аргумент s и возвращает True или False в зависимости от того, может ли текущая строку быть получена целым количеством повторов строки s. Вернуть False, если s не является строкой. Считать, что пустая строка не содержит повторов.\n",
        "\n",
        "2. Метод is_palindrom (), который возвращает True или False в зависимости от того, является ли строка [палиндромом](https://ru.wikipedia.org/wiki/Палиндром). Регистрами символов пренебрегать. Пустую строку считать палиндромом."
      ],
      "metadata": {
        "id": "GX99X81VchPW"
      }
    },
    {
      "cell_type": "code",
      "source": [
        "class SuperStr(str):\n",
        "    def is_repeatance(self, s: str) -> bool:\n",
        "        '''\n",
        "        Принимает 1 аргумент s и возвращает True или False в зависимости от того,\n",
        "        может ли текущая строку быть получена целым количеством повторов строки s.\n",
        "        Вернуть False, если s не является строкой. Считать, что пустая строка не содержит повторов.\n",
        "        '''\n",
        "        if not isinstance(s, str):\n",
        "            return False\n",
        "        elif not self:\n",
        "            return False\n",
        "        elif not s:\n",
        "            return False\n",
        "        elif len(self) % len(s) != 0:\n",
        "            return False\n",
        "        else:\n",
        "          repeats = len(self) // len(s)\n",
        "          return self == s * repeats\n",
        "\n",
        "    def is_palindrom(self) -> bool:\n",
        "        '''\n",
        "        Возвращает True или False в зависимости от того, является ли строка палиндромом.\n",
        "        Регистрами символов пренебрегать. Пустую строку считать палиндромом.\n",
        "        '''\n",
        "        lower_text = self.lower()\n",
        "        return lower_text == lower_text[::-1]"
      ],
      "metadata": {
        "id": "LtIAKDWFdEcr"
      },
      "execution_count": 3,
      "outputs": []
    },
    {
      "cell_type": "code",
      "source": [
        "# Тесты\n",
        "\n",
        "s = SuperStr(\"123123123123\")\n",
        "print(s.is_repeatance(\"123\")) # True\n",
        "print(s.is_repeatance(\"123123\")) # True\n",
        "print(s.is_repeatance(\"123123123123\")) # True\n",
        "print(s.is_repeatance(\"12312\")) # False\n",
        "print(s.is_repeatance(123)) # False\n",
        "print(s.is_palindrom()) # False\n",
        "print(s) # 123123123123 (строка)\n",
        "print(int(s)) # 123123123123 (целое число)\n",
        "print(s + \"qwe\") # 123123123123qwe\n",
        "p = SuperStr(\"123_321\")\n",
        "print(p.is_palindrom()) # True"
      ],
      "metadata": {
        "id": "oRO3alwicoNp",
        "colab": {
          "base_uri": "https://localhost:8080/"
        },
        "outputId": "dd1659d8-f01c-42a7-ca97-a1c15efdf22b"
      },
      "execution_count": 4,
      "outputs": [
        {
          "output_type": "stream",
          "name": "stdout",
          "text": [
            "True\n",
            "True\n",
            "True\n",
            "False\n",
            "False\n",
            "False\n",
            "123123123123\n",
            "123123123123\n",
            "123123123123qwe\n",
            "True\n"
          ]
        }
      ]
    },
    {
      "cell_type": "markdown",
      "source": [
        "## **Задание №3. В коде ниже представлен класс преподавателей и класс студентов (вы можете взять этот код за основу или написать свой).**"
      ],
      "metadata": {
        "id": "m9EGwLY9jZbw"
      }
    },
    {
      "cell_type": "code",
      "source": [
        "class Student:\n",
        "    def __init__(self, name, surname, gender):\n",
        "        self.name = name\n",
        "        self.surname = surname\n",
        "        self.gender = gender\n",
        "        self.finished_courses = []\n",
        "        self.courses_in_progress = []\n",
        "        self.grades = {}\n",
        "\n",
        "    def add_courses(self, course_name):\n",
        "        self.finished_courses.append(course_name)\n",
        "\n",
        "\n",
        "class Mentor:\n",
        "    def __init__(self, name, surname):\n",
        "        self.name = name\n",
        "        self.surname = surname\n",
        "        self.courses_attached = []\n",
        "\n",
        "    def rate_hw(self, student, course, grade):\n",
        "        student.grades[course] = [grade]"
      ],
      "metadata": {
        "id": "PlqK9m7KrT6e"
      },
      "execution_count": 16,
      "outputs": []
    },
    {
      "cell_type": "code",
      "source": [
        "best_student = Student('Ruoy', 'Eman', 'your_gender')\n",
        "cool_mentor = Mentor('Some', 'Buddy')\n",
        "cool_mentor.rate_hw(best_student, 'Python', 10)\n",
        "\n",
        "print(\"Имя студента: \", best_student.name)\n",
        "print(\"Имя преподавателя: \", cool_mentor.name)\n",
        "print(\"Оценки студента по курсам: \", best_student.grades)"
      ],
      "metadata": {
        "colab": {
          "base_uri": "https://localhost:8080/"
        },
        "id": "oNc1-dVaw3ee",
        "outputId": "bd101834-4ef2-437b-fe98-6d905278f23c"
      },
      "execution_count": 17,
      "outputs": [
        {
          "output_type": "stream",
          "name": "stdout",
          "text": [
            "Имя студента:  Ruoy\n",
            "Имя преподавателя:  Some\n",
            "Оценки студента по курсам:  {'Python': [10]}\n"
          ]
        }
      ]
    },
    {
      "cell_type": "markdown",
      "source": [
        "### **3.1. Наследование**"
      ],
      "metadata": {
        "id": "08FkYxULrxE-"
      }
    },
    {
      "cell_type": "markdown",
      "source": [
        "* Класс Mentor должен стать родительским классом для преподавателей. От него нужно реализовать наследование классов Lecturer (лекторы) и Reviewer (эксперты, проверяющие домашние задания).\n",
        "\n",
        "> Имя, фамилю и список закрепленных курсов логично реализовать на уровне родительского класса."
      ],
      "metadata": {
        "id": "YNjsCv5ItOii"
      }
    },
    {
      "cell_type": "code",
      "source": [
        "class Lecturer(Mentor):\n",
        "    pass\n",
        "\n",
        "class Reviewer(Mentor):\n",
        "    pass"
      ],
      "metadata": {
        "id": "1quZPRZKtIoc"
      },
      "execution_count": 7,
      "outputs": []
    },
    {
      "cell_type": "markdown",
      "source": [
        "### **3.2. Атрибуты и взаимодействие классов**"
      ],
      "metadata": {
        "id": "oL8kB-uUtH5K"
      }
    },
    {
      "cell_type": "markdown",
      "source": [
        "* Реализуйте возможность проставления оценок студентам только Reviewer-ам (реализуйте такой метод).\n",
        "\n",
        "* Реализуйте метод выставления оценок лекторам у класса Student (оценки по 10-балльной шкале, хранятся в атрибуте-словаре у Lecturer, в котором ключи – названия курсов, а значения – списки оценок). Лектор при этом должен быть закреплен за тем курсом, на который записан студент (реализовать проверку)."
      ],
      "metadata": {
        "id": "ddcuJFCksWsY"
      }
    },
    {
      "cell_type": "code",
      "source": [
        "class Student:\n",
        "    def __init__(self, name, surname, gender):\n",
        "        self.name = name\n",
        "        self.surname = surname\n",
        "        self.gender = gender\n",
        "        self.finished_courses = []\n",
        "        self.courses_in_progress = []\n",
        "        self.grades = {}\n",
        "\n",
        "    def add_courses(self, course_name):\n",
        "        self.finished_courses.append(course_name)\n",
        "\n",
        "    def rate_lecturer(self, lecturer, course, grade):\n",
        "        if (isinstance(lecturer, Lecturer) and\n",
        "            course in self.courses_in_progress and\n",
        "            course in lecturer.courses_attached and\n",
        "            1 <= grade <= 10):\n",
        "            if course not in lecturer.grades:\n",
        "                lecturer.grades[course] = []\n",
        "            lecturer.grades[course].append(grade)\n",
        "        else:\n",
        "            return \"Ошибка: невозможно поставить оценку\"\n",
        "\n",
        "\n",
        "class Mentor:\n",
        "    def __init__(self, name, surname):\n",
        "        self.name = name\n",
        "        self.surname = surname\n",
        "        self.courses_attached = []\n",
        "\n",
        "\n",
        "class Lecturer(Mentor):\n",
        "    def __init__(self, name, surname):\n",
        "        super().__init__(name, surname)\n",
        "        self.grades = {}\n",
        "\n",
        "\n",
        "class Reviewer(Mentor):\n",
        "    def rate_hw(self, student, course, grade):\n",
        "        if (isinstance(student, Student) and\n",
        "            course in self.courses_attached and\n",
        "            course in student.courses_in_progress):\n",
        "            if course not in student.grades:\n",
        "                student.grades[course] = []\n",
        "            student.grades[course].append(grade)\n",
        "        else:\n",
        "            return \"Ошибка: невозможно поставить оценку\""
      ],
      "metadata": {
        "id": "U30yyvuirv6H"
      },
      "execution_count": 8,
      "outputs": []
    },
    {
      "cell_type": "markdown",
      "source": [
        "### **3.3. Полиморфизм и магические методы**"
      ],
      "metadata": {
        "id": "i6PrwEBSu39u"
      }
    },
    {
      "cell_type": "markdown",
      "source": [
        "Перегрузите магический метод \\_\\_str__ у всех классов.\n",
        "У проверяющих он должен выводить информацию в следующем виде:\n",
        "\n",
        "\n",
        "\n",
        "```\n",
        "print(some_reviewer)\n",
        "Имя: Some\n",
        "Фамилия: Buddy\n",
        "```\n",
        "\n",
        "У лекторов:\n",
        "\n",
        "\n",
        "\n",
        "```\n",
        "print(some_lecturer)\n",
        "Имя: Some\n",
        "Фамилия: Buddy\n",
        "Средняя оценка за лекции: 9.9\n",
        "```\n",
        "\n",
        "А у студентов так:\n",
        "\n",
        "\n",
        "\n",
        "```\n",
        "print(some_student)\n",
        "Имя: Ruoy\n",
        "Фамилия: Eman\n",
        "Средняя оценка за домашние задания: 9.9\n",
        "Курсы в процессе изучения: Python, Git\n",
        "Завершенные курсы: Введение в программирование\n",
        "```\n",
        "\n",
        "\n",
        "\n"
      ],
      "metadata": {
        "id": "GvmtjlnmvF8b"
      }
    },
    {
      "cell_type": "code",
      "source": [
        "class Student:\n",
        "    def __init__(self, name, surname, gender):\n",
        "        self.name = name\n",
        "        self.surname = surname\n",
        "        self.gender = gender\n",
        "        self.finished_courses = []\n",
        "        self.courses_in_progress = []\n",
        "        self.grades = {}\n",
        "\n",
        "    def add_courses(self, course_name):\n",
        "        self.finished_courses.append(course_name)\n",
        "\n",
        "    def rate_lecturer(self, lecturer, course, grade):\n",
        "        if (isinstance(lecturer, Lecturer) and\n",
        "            course in self.courses_in_progress and\n",
        "            course in lecturer.courses_attached and\n",
        "            1 <= grade <= 10):\n",
        "            if course not in lecturer.grades:\n",
        "                lecturer.grades[course] = []\n",
        "            lecturer.grades[course].append(grade)\n",
        "        else:\n",
        "            return \"Ошибка: невозможно поставить оценку\"\n",
        "\n",
        "    def get_avg_grade(self):\n",
        "        total_grades = 0\n",
        "        count_grades = 0\n",
        "        for course_grades in self.grades.values():\n",
        "            total_grades += sum(course_grades)\n",
        "            count_grades += len(course_grades)\n",
        "        return total_grades / count_grades if count_grades > 0 else 0\n",
        "\n",
        "    def __str__(self):\n",
        "        avg_grade = self.get_avg_grade()\n",
        "        courses_in_progress_str = ', '.join(self.courses_in_progress)\n",
        "        finished_courses_str = ', '.join(self.finished_courses)\n",
        "        return (f\"Имя: {self.name}\\n\"\n",
        "                f\"Фамилия: {self.surname}\\n\"\n",
        "                f\"Средняя оценка за домашние задания: {avg_grade:.1f}\\n\"\n",
        "                f\"Курсы в процессе изучения: {courses_in_progress_str}\\n\"\n",
        "                f\"Завершенные курсы: {finished_courses_str}\")\n",
        "\n",
        "\n",
        "\n",
        "class Lecturer(Mentor):\n",
        "    def __init__(self, name, surname):\n",
        "        super().__init__(name, surname)\n",
        "        self.grades = {}\n",
        "\n",
        "    def get_avg_grade(self):\n",
        "        total_grades = 0\n",
        "        count_grades = 0\n",
        "        for course_grades in self.grades.values():\n",
        "            total_grades += sum(course_grades)\n",
        "            count_grades += len(course_grades)\n",
        "        return total_grades / count_grades if count_grades > 0 else 0\n",
        "\n",
        "    def __str__(self):\n",
        "        avg_grade = self.get_avg_grade()\n",
        "        return (f\"Имя: {self.name}\\n\"\n",
        "                f\"Фамилия: {self.surname}\\n\"\n",
        "                f\"Средняя оценка за лекции: {avg_grade:.1f}\")\n",
        "\n",
        "\n",
        "class Reviewer(Mentor):\n",
        "    def rate_hw(self, student, course, grade):\n",
        "        if (isinstance(student, Student) and\n",
        "            course in self.courses_attached and\n",
        "            course in student.courses_in_progress):\n",
        "            if course not in student.grades:\n",
        "                student.grades[course] = []\n",
        "            student.grades[course].append(grade)\n",
        "        else:\n",
        "            return \"Ошибка: невозможно поставить оценку\"\n",
        "\n",
        "    def __str__(self):\n",
        "        return (f\"Имя: {self.name}\\n\"\n",
        "                f\"Фамилия: {self.surname}\")"
      ],
      "metadata": {
        "id": "gCJAL_EmwU0b"
      },
      "execution_count": 19,
      "outputs": []
    },
    {
      "cell_type": "markdown",
      "source": [
        "**Реализуйте перегрузку других магических методов на Ваш выбор (не менее трёх), руководствуясь по смыслу контекстом представленных классов (студенты, преподаватели, оценки и т.д.)**"
      ],
      "metadata": {
        "id": "1DNE4TE3vfYI"
      }
    },
    {
      "cell_type": "code",
      "source": [
        "class Student:\n",
        "    def __init__(self, name, surname, gender):\n",
        "        self.name = name\n",
        "        self.surname = surname\n",
        "        self.gender = gender\n",
        "        self.finished_courses = []\n",
        "        self.courses_in_progress = []\n",
        "        self.grades = {}\n",
        "\n",
        "    def add_courses(self, course_name):\n",
        "        self.finished_courses.append(course_name)\n",
        "\n",
        "    def rate_lecturer(self, lecturer, course, grade):\n",
        "        if (isinstance(lecturer, Lecturer) and\n",
        "            course in self.courses_in_progress and\n",
        "            course in lecturer.courses_attached and\n",
        "            1 <= grade <= 10):\n",
        "            if course not in lecturer.grades:\n",
        "                lecturer.grades[course] = []\n",
        "            lecturer.grades[course].append(grade)\n",
        "        else:\n",
        "            return \"Ошибка: невозможно поставить оценку\"\n",
        "\n",
        "    def get_avg_grade(self):\n",
        "        total_grades = 0\n",
        "        count_grades = 0\n",
        "        for course_grades in self.grades.values():\n",
        "            total_grades += sum(course_grades)\n",
        "            count_grades += len(course_grades)\n",
        "        return total_grades / count_grades if count_grades > 0 else 0\n",
        "\n",
        "    def __str__(self):\n",
        "        avg_grade = self.get_avg_grade()\n",
        "        courses_in_progress_str = ', '.join(self.courses_in_progress)\n",
        "        finished_courses_str = ', '.join(self.finished_courses)\n",
        "        return (f\"Имя: {self.name}\\n\"\n",
        "                f\"Фамилия: {self.surname}\\n\"\n",
        "                f\"Средняя оценка за домашние задания: {avg_grade:.1f}\\n\"\n",
        "                f\"Курсы в процессе изучения: {courses_in_progress_str}\\n\"\n",
        "                f\"Завершенные курсы: {finished_courses_str}\")\n",
        "\n",
        "    def __eq__(self, other):\n",
        "        if not isinstance(other, Student):\n",
        "            return NotImplemented\n",
        "        return self.get_avg_grade() == other.get_avg_grade()\n",
        "\n",
        "    def __lt__(self, other):\n",
        "        if not isinstance(other, Student):\n",
        "            return NotImplemented\n",
        "        return self.get_avg_grade() < other.get_avg_grade()\n",
        "\n",
        "    def __len__(self):\n",
        "        return len(self.courses_in_progress)\n",
        "\n",
        "\n",
        "class Mentor:\n",
        "    def __init__(self, name, surname):\n",
        "        self.name = name\n",
        "        self.surname = surname\n",
        "        self.courses_attached = []\n",
        "\n",
        "\n",
        "class Lecturer(Mentor):\n",
        "    def __init__(self, name, surname):\n",
        "        super().__init__(name, surname)\n",
        "        self.grades = {}\n",
        "\n",
        "    def get_avg_grade(self):\n",
        "        total_grades = 0\n",
        "        count_grades = 0\n",
        "        for course_grades in self.grades.values():\n",
        "            total_grades += sum(course_grades)\n",
        "            count_grades += len(course_grades)\n",
        "        return total_grades / count_grades if count_grades > 0 else 0\n",
        "\n",
        "    def __str__(self):\n",
        "        avg_grade = self.get_avg_grade()\n",
        "        return (f\"Имя: {self.name}\\n\"\n",
        "                f\"Фамилия: {self.surname}\\n\"\n",
        "                f\"Средняя оценка за лекции: {avg_grade:.1f}\")\n",
        "\n",
        "    def __eq__(self, other):\n",
        "        if not isinstance(other, Lecturer):\n",
        "            return NotImplemented\n",
        "        return self.get_avg_grade() == other.get_avg_grade()\n",
        "\n",
        "    def __lt__(self, other):\n",
        "        if not isinstance(other, Lecturer):\n",
        "            return NotImplemented\n",
        "        return self.get_avg_grade() < other.get_avg_grade()\n",
        "\n",
        "    def __len__(self):\n",
        "        return len(self.courses_attached)\n",
        "\n",
        "\n",
        "class Reviewer(Mentor):\n",
        "    def rate_hw(self, student, course, grade):\n",
        "        if (isinstance(student, Student) and\n",
        "            course in self.courses_attached and\n",
        "            course in student.courses_in_progress):\n",
        "            if course not in student.grades:\n",
        "                student.grades[course] = []\n",
        "            student.grades[course].append(grade)\n",
        "        else:\n",
        "            return \"Ошибка: невозможно поставить оценку\"\n",
        "\n",
        "    def __str__(self):\n",
        "        return (f\"Имя: {self.name}\\n\"\n",
        "                f\"Фамилия: {self.surname}\")\n",
        "\n",
        "    def __eq__(self, other):\n",
        "        if not isinstance(other, Reviewer):\n",
        "            return NotImplemented\n",
        "        return (self.name == other.name and\n",
        "                self.surname == other.surname)\n",
        "\n",
        "    def __len__(self):\n",
        "        return len(self.courses_attached)\n",
        "\n",
        "    def __contains__(self, course):\n",
        "        return course in self.courses_attached\n",
        "\n",
        "\n",
        "def average_grade_hw(students, course):\n",
        "    total_grade = 0\n",
        "    count_grades = 0\n",
        "\n",
        "    for student in students:\n",
        "        if course in student.grades:\n",
        "            total_grade += sum(student.grades[course])\n",
        "            count_grades += len(student.grades[course])\n",
        "\n",
        "    return total_grade / count_grades if count_grades > 0 else 0\n",
        "\n",
        "\n",
        "def average_grade_lecture(lecturers, course):\n",
        "    total_grade = 0\n",
        "    count_grades = 0\n",
        "\n",
        "    for lecturer in lecturers:\n",
        "        if course in lecturer.grades:\n",
        "            total_grade += sum(lecturer.grades[course])\n",
        "            count_grades += len(lecturer.grades[course])\n",
        "\n",
        "    return total_grade / count_grades if count_grades > 0 else 0"
      ],
      "metadata": {
        "id": "WNCf9PPMu4Gv"
      },
      "execution_count": 21,
      "outputs": []
    },
    {
      "cell_type": "markdown",
      "source": [
        "### **3.4. Тестирование**\n",
        "\n",
        "Создайте по 2 экземпляра каждого класса, вызовите все созданные методы, а также реализуйте две функции:\n",
        "\n",
        "* для подсчета средней оценки за домашние задания по всем студентам в рамках конкретного курса (в качестве аргументов принимаем список студентов и название курса);\n",
        "* для подсчета средней оценки за лекции всех лекторов в рамках курса (в качестве аргумента принимаем список лекторов и название курса)."
      ],
      "metadata": {
        "id": "X8xvLNT6u4Nn"
      }
    },
    {
      "cell_type": "code",
      "source": [
        "student1 = Student(\"Ruoy\", \"Eman\", \"male\")\n",
        "student1.courses_in_progress = [\"Python\", \"Git\"]\n",
        "student1.finished_courses = [\"Введение в программирование\"]\n",
        "\n",
        "student2 = Student(\"Anna\", \"Smith\", \"female\")\n",
        "student2.courses_in_progress = [\"Python\", \"Java\"]\n",
        "student2.finished_courses = [\"Математика для программистов\"]\n",
        "\n",
        "lecturer1 = Lecturer(\"Some\", \"Buddy\")\n",
        "lecturer1.courses_attached = [\"Python\", \"Git\"]\n",
        "\n",
        "lecturer2 = Lecturer(\"John\", \"Doe\")\n",
        "lecturer2.courses_attached = [\"Python\", \"Java\"]\n",
        "\n",
        "reviewer1 = Reviewer(\"Mike\", \"Johnson\")\n",
        "reviewer1.courses_attached = [\"Python\", \"Git\"]\n",
        "\n",
        "reviewer2 = Reviewer(\"Sarah\", \"Wilson\")\n",
        "reviewer2.courses_attached = [\"Python\", \"Java\"]\n",
        "\n",
        "print(\"=== Выставление оценок студентам ===\")\n",
        "reviewer1.rate_hw(student1, \"Python\", 9)\n",
        "reviewer1.rate_hw(student1, \"Python\", 8)\n",
        "reviewer1.rate_hw(student1, \"Git\", 10)\n",
        "\n",
        "reviewer2.rate_hw(student2, \"Python\", 7)\n",
        "reviewer2.rate_hw(student2, \"Python\", 9)\n",
        "reviewer2.rate_hw(student2, \"Java\", 8)\n",
        "\n",
        "print(\"=== Выставление оценок лекторам ===\")\n",
        "student1.rate_lecturer(lecturer1, \"Python\", 10)\n",
        "student1.rate_lecturer(lecturer1, \"Python\", 9)\n",
        "student1.rate_lecturer(lecturer1, \"Git\", 8)\n",
        "\n",
        "student2.rate_lecturer(lecturer2, \"Python\", 9)\n",
        "student2.rate_lecturer(lecturer2, \"Python\", 8)\n",
        "student2.rate_lecturer(lecturer2, \"Java\", 10)\n",
        "\n",
        "print(\"\\n=== Информация о студентах ===\")\n",
        "print(student1)\n",
        "print(\"\\n\" + str(student2))\n",
        "\n",
        "print(\"\\n=== Информация о лекторах ===\")\n",
        "print(lecturer1)\n",
        "print(\"\\n\" + str(lecturer2))\n",
        "\n",
        "print(\"\\n=== Информация о проверяющих ===\")\n",
        "print(reviewer1)\n",
        "print(\"\\n\" + str(reviewer2))\n",
        "\n",
        "print(\"\\n=== Демонстрация магических методов ===\")\n",
        "print(f\"Сравнение студентов: student1 == student2: {student1 == student2}\")\n",
        "print(f\"Сравнение студентов: student1 < student2: {student1 < student2}\")\n",
        "print(f\"Количество курсов у student1: {len(student1)}\")\n",
        "\n",
        "print(f\"Сравнение лекторов: lecturer1 == lecturer2: {lecturer1 == lecturer2}\")\n",
        "print(f\"Сравнение лекторов: lecturer1 < lecturer2: {lecturer1 < lecturer2}\")\n",
        "print(f\"Количество курсов у lecturer1: {len(lecturer1)}\")\n",
        "\n",
        "print(f\"Сравнение проверяющих: reviewer1 == reviewer2: {reviewer1 == reviewer2}\")\n",
        "print(f\"Количество курсов у reviewer1: {len(reviewer1)}\")\n",
        "print(f\"Проверка курса 'Python' у reviewer1: {'Python' in reviewer1}\")\n",
        "\n",
        "print(\"\\n=== Средние оценки по курсам ===\")\n",
        "students_list = [student1, student2]\n",
        "lecturers_list = [lecturer1, lecturer2]\n",
        "\n",
        "avg_hw_python = average_grade_hw(students_list, \"Python\")\n",
        "avg_lecture_python = average_grade_lecture(lecturers_list, \"Python\")\n",
        "\n",
        "print(f\"Средняя оценка за домашние задания по курсу Python: {avg_hw_python:.1f}\")\n",
        "print(f\"Средняя оценка за лекции по курсу Python: {avg_lecture_python:.1f}\")\n",
        "\n",
        "print(\"\\n=== Дополнительные демонстрации ===\")\n",
        "student1.add_courses(\"Основы алгоритмов\")\n",
        "print(f\"После добавления завершенного курса: {student1.finished_courses}\")\n",
        "\n",
        "print(\"\\n=== Проверка обработки ошибок ===\")\n",
        "result = student1.rate_lecturer(lecturer1, \"C++\", 5)  # Курс не изучается\n",
        "print(f\"Попытка оценки по непроходимому курсу: {result}\")\n",
        "\n",
        "result = reviewer1.rate_hw(student1, \"Java\", 8)  # Курс не прикреплен\n",
        "print(f\"Попытка оценки по неприкрепленному курсу: {result}\")"
      ],
      "metadata": {
        "id": "uh8n08fdu4V_",
        "colab": {
          "base_uri": "https://localhost:8080/"
        },
        "outputId": "340231be-c631-4b71-f7fc-d6100ba09ac2"
      },
      "execution_count": 23,
      "outputs": [
        {
          "output_type": "stream",
          "name": "stdout",
          "text": [
            "=== Выставление оценок студентам ===\n",
            "=== Выставление оценок лекторам ===\n",
            "\n",
            "=== Информация о студентах ===\n",
            "Имя: Ruoy\n",
            "Фамилия: Eman\n",
            "Средняя оценка за домашние задания: 9.0\n",
            "Курсы в процессе изучения: Python, Git\n",
            "Завершенные курсы: Введение в программирование\n",
            "\n",
            "Имя: Anna\n",
            "Фамилия: Smith\n",
            "Средняя оценка за домашние задания: 8.0\n",
            "Курсы в процессе изучения: Python, Java\n",
            "Завершенные курсы: Математика для программистов\n",
            "\n",
            "=== Информация о лекторах ===\n",
            "Имя: Some\n",
            "Фамилия: Buddy\n",
            "Средняя оценка за лекции: 9.0\n",
            "\n",
            "Имя: John\n",
            "Фамилия: Doe\n",
            "Средняя оценка за лекции: 9.0\n",
            "\n",
            "=== Информация о проверяющих ===\n",
            "Имя: Mike\n",
            "Фамилия: Johnson\n",
            "\n",
            "Имя: Sarah\n",
            "Фамилия: Wilson\n",
            "\n",
            "=== Демонстрация магических методов ===\n",
            "Сравнение студентов: student1 == student2: False\n",
            "Сравнение студентов: student1 < student2: False\n",
            "Количество курсов у student1: 2\n",
            "Сравнение лекторов: lecturer1 == lecturer2: True\n",
            "Сравнение лекторов: lecturer1 < lecturer2: False\n",
            "Количество курсов у lecturer1: 2\n",
            "Сравнение проверяющих: reviewer1 == reviewer2: False\n",
            "Количество курсов у reviewer1: 2\n",
            "Проверка курса 'Python' у reviewer1: True\n",
            "\n",
            "=== Средние оценки по курсам ===\n",
            "Средняя оценка за домашние задания по курсу Python: 8.2\n",
            "Средняя оценка за лекции по курсу Python: 9.0\n",
            "\n",
            "=== Дополнительные демонстрации ===\n",
            "После добавления завершенного курса: ['Введение в программирование', 'Основы алгоритмов']\n",
            "\n",
            "=== Проверка обработки ошибок ===\n",
            "Попытка оценки по непроходимому курсу: Ошибка: невозможно поставить оценку\n",
            "Попытка оценки по неприкрепленному курсу: Ошибка: невозможно поставить оценку\n"
          ]
        }
      ]
    },
    {
      "cell_type": "markdown",
      "source": [
        "## **Задание №4. Перегрузка операторов с помощью магических методов**\n"
      ],
      "metadata": {
        "id": "ehfo80anwJUM"
      }
    },
    {
      "cell_type": "markdown",
      "source": [
        "### **Цель задания:**\n",
        "\n"
      ],
      "metadata": {
        "id": "i_KsKg4awZOJ"
      }
    },
    {
      "cell_type": "markdown",
      "source": [
        "Разработать класс `Fraction` для работы с рациональными числами (дробями), реализовав перегрузку стандартных операторов через переопределение соответствующих магических методов. Ваша задача — обеспечить класс `Fraction` функциональностью, демонстрируемой в приведенном примере кода."
      ],
      "metadata": {
        "id": "JvIIB641watq"
      }
    },
    {
      "cell_type": "markdown",
      "source": [
        "### **Описание задания:**\n",
        "\n"
      ],
      "metadata": {
        "id": "BZ9kMLrYwcW_"
      }
    },
    {
      "cell_type": "markdown",
      "source": [
        "Создайте класс `Fraction`, который представляет собой обыкновенную дробь с числителем и знаменателем. Перегрузите основные арифметические операторы для выполнения операций над дробями, а также операторы сравнения. Обеспечьте возможность преобразования дроби в число с плавающей точкой и обратную операцию. Реализуйте обработку исключений при некорректных данных. Предоставьте понятное строковое и официальное представление дроби."
      ],
      "metadata": {
        "id": "6Qt56A-Bwe87"
      }
    },
    {
      "cell_type": "markdown",
      "source": [
        "**Требования к заданию:**\n"
      ],
      "metadata": {
        "id": "1lv3NnB_whqP"
      }
    },
    {
      "cell_type": "markdown",
      "source": [
        "\n",
        "1. **Класс `Fraction` должен:**\n",
        "\n",
        "   - Инициализироваться двумя целыми числами: числителем и знаменателем.\n",
        "   - Обрабатывать ситуацию когда знаменатель равен нулю, а именно выводить сообщение `\"Знаменатель не может быть нулем\"`.\n",
        "   - Упрощать дроби до несократимых при создании и после каждой арифметической операции.\n",
        "\n",
        "2. **Перегрузить следующие операторы путем переопределения магических методов:**\n",
        "\n",
        "   - **Сложение `+`** (`__add__`): сложение двух дробей, возвращает новую дробь.\n",
        "   - **Вычитание `-`** (`__sub__`): вычитание одной дроби из другой, возвращает новую дробь.\n",
        "   - **Умножение `*`** (`__mul__`): умножение двух дробей, возвращает новую дробь.\n",
        "   - **Деление `/`** (`__truediv__`): деление одной дроби на другую, возвращает новую дробь.\n",
        "   - **Равенство `==`** (`__eq__`): проверка равенства двух дробей.\n",
        "   - **Сравнения `>`, `<`, `>=`, `<=`**: сравнение дробей по их значению, реализовать методы `__lt__`, `__le__`, `__gt__`, `__ge__`.\n",
        "\n",
        "3. **Реализовать преобразование типов:**\n",
        "\n",
        "   - **Метод `__float__`**: преобразование дроби в число с плавающей точкой.\n",
        "\n",
        "4. **Дополнительные методы класса:**\n",
        "\n",
        "   - **`reciprocal()`**: возвращает новую дробь, обратную данной (числитель и знаменатель меняются местами).\n",
        "   - **Строковое представление** (`__str__`): возвращает строку вида `\"числитель/знаменатель\"`. Если знаменатель равен 1, возвращает только числитель в виде строки.\n",
        "   - **Официальное представление** (`__repr__`): возвращает строку вида `\"Fraction(числитель, знаменатель)\"`.\n",
        "\n",
        "5. **Обработка исключений:**\n",
        "\n",
        "   - При попытке создать дробь с нулевым знаменателем выводить в консоль сообщение `ValueError`.\n",
        "   - При попытке деления на нулевую дробь, выводить в консоль сообщение `ZeroDivisionError`.\n",
        "\n",
        "6. **Тестирование:**\n",
        "\n",
        "   - Написать код, демонстрирующий работу всех реализованных методов и операторов, используя примеры, приведенные ниже.\n",
        "   - Обеспечить корректную обработку исключений и вывод соответствующих сообщений.\n",
        "\n",
        "\n",
        "\n"
      ],
      "metadata": {
        "id": "4tJX8suPv0TY"
      }
    },
    {
      "cell_type": "code",
      "source": [
        "import math\n",
        "\n",
        "class Fraction:\n",
        "    def __init__(self, numerator, denominator=1):\n",
        "        if denominator == 0:\n",
        "            raise ValueError(\"Знаменатель не может быть нулем\")\n",
        "\n",
        "        gcd = math.gcd(numerator, denominator)\n",
        "        self.numerator = numerator // gcd\n",
        "        self.denominator = denominator // gcd\n",
        "\n",
        "        if self.denominator < 0:\n",
        "            self.numerator = -self.numerator\n",
        "            self.denominator = -self.denominator\n",
        "\n",
        "    def __add__(self, other):\n",
        "        if isinstance(other, Fraction):\n",
        "            new_numerator = (self.numerator * other.denominator +\n",
        "                           other.numerator * self.denominator)\n",
        "            new_denominator = self.denominator * other.denominator\n",
        "            return Fraction(new_numerator, new_denominator)\n",
        "        return NotImplemented\n",
        "\n",
        "    def __sub__(self, other):\n",
        "        if isinstance(other, Fraction):\n",
        "            new_numerator = (self.numerator * other.denominator -\n",
        "                           other.numerator * self.denominator)\n",
        "            new_denominator = self.denominator * other.denominator\n",
        "            return Fraction(new_numerator, new_denominator)\n",
        "        return NotImplemented\n",
        "\n",
        "    def __mul__(self, other):\n",
        "        if isinstance(other, Fraction):\n",
        "            new_numerator = self.numerator * other.numerator\n",
        "            new_denominator = self.denominator * other.denominator\n",
        "            return Fraction(new_numerator, new_denominator)\n",
        "        return NotImplemented\n",
        "\n",
        "    def __truediv__(self, other):\n",
        "        if isinstance(other, Fraction):\n",
        "            if other.numerator == 0:\n",
        "                raise ZeroDivisionError(\"Деление на нулевую дробь\")\n",
        "            return self * other.reciprocal()\n",
        "        return NotImplemented\n",
        "\n",
        "    def __eq__(self, other):\n",
        "        if isinstance(other, Fraction):\n",
        "            return (self.numerator == other.numerator and\n",
        "                    self.denominator == other.denominator)\n",
        "        return NotImplemented\n",
        "\n",
        "    def __lt__(self, other):\n",
        "        if isinstance(other, Fraction):\n",
        "            return (self.numerator * other.denominator <\n",
        "                    other.numerator * self.denominator)\n",
        "        return NotImplemented\n",
        "\n",
        "    def __le__(self, other):\n",
        "        if isinstance(other, Fraction):\n",
        "            return (self.numerator * other.denominator <=\n",
        "                    other.numerator * self.denominator)\n",
        "        return NotImplemented\n",
        "\n",
        "    def __gt__(self, other):\n",
        "        if isinstance(other, Fraction):\n",
        "            return (self.numerator * other.denominator >\n",
        "                    other.numerator * self.denominator)\n",
        "        return NotImplemented\n",
        "\n",
        "    def __ge__(self, other):\n",
        "        if isinstance(other, Fraction):\n",
        "            return (self.numerator * other.denominator >=\n",
        "                    other.numerator * self.denominator)\n",
        "        return NotImplemented\n",
        "\n",
        "    def __float__(self):\n",
        "        return self.numerator / self.denominator\n",
        "\n",
        "    def reciprocal(self):\n",
        "        if self.numerator == 0:\n",
        "            raise ZeroDivisionError(\"Невозможно получить обратную дробь для нуля\")\n",
        "        return Fraction(self.denominator, self.numerator)\n",
        "\n",
        "    def __str__(self):\n",
        "        if self.denominator == 1:\n",
        "            return str(self.numerator)\n",
        "        return f\"{self.numerator}/{self.denominator}\"\n",
        "\n",
        "    def __repr__(self):\n",
        "        return f\"Fraction({self.numerator}, {self.denominator})\"\n",
        "\n",
        "    @classmethod\n",
        "    def from_float(cls, float_value):\n",
        "        if float_value == 0:\n",
        "            return cls(0, 1)\n",
        "\n",
        "        power = 8\n",
        "        numerator = int(float_value * (10 ** power))\n",
        "        denominator = 10 ** power\n",
        "\n",
        "        return cls(numerator, denominator)"
      ],
      "metadata": {
        "id": "58JlCtFkxpmU"
      },
      "execution_count": 32,
      "outputs": []
    },
    {
      "cell_type": "markdown",
      "source": [
        "**Тесты для класса `Fraction`:**\n"
      ],
      "metadata": {
        "id": "N5tZxFvIxdIy"
      }
    },
    {
      "cell_type": "code",
      "source": [
        "# Создание дробей\n",
        "f1 = Fraction(3, 4)\n",
        "f2 = Fraction(5, 6)\n",
        "\n",
        "# Сложение дробей\n",
        "f3 = f1 + f2\n",
        "print(f3)  # Ожидаемый вывод: 19/12\n",
        "\n",
        "# Вычитание дробей\n",
        "f4 = f1 - f2\n",
        "print(f4)  # Ожидаемый вывод: -1/12\n",
        "\n",
        "# Умножение дробей\n",
        "f5 = f1 * f2\n",
        "print(f5)  # Ожидаемый вывод: 5/8\n",
        "\n",
        "# Деление дробей\n",
        "f6 = f1 / f2\n",
        "print(f6)  # Ожидаемый вывод: 9/10\n",
        "\n",
        "# Проверка равенства\n",
        "print(f1 == Fraction(6, 8))   # Ожидаемый вывод: True\n",
        "\n",
        "# Сравнение дробей\n",
        "print(f1 > f2)    # Ожидаемый вывод: False\n",
        "print(f1 < f2)    # Ожидаемый вывод: True\n",
        "\n",
        "# Преобразование к float\n",
        "print(float(f1))  # Ожидаемый вывод: 0.75\n",
        "\n",
        "# Обратная дробь\n",
        "f7 = f1.reciprocal()\n",
        "print(f7)         # Ожидаемый вывод: 4/3\n",
        "\n",
        "# Создание дроби из float\n",
        "f8 = Fraction.from_float(0.75)\n",
        "print(f8)         # Ожидаемый вывод: 3/4\n",
        "\n",
        "# Проверка обработки исключений\n",
        "try:\n",
        "    f_invalid = Fraction(5, 0)\n",
        "except ValueError as e:\n",
        "    print(e)  # Ожидаемый вывод: Знаменатель не может быть нулем\n",
        "\n",
        "# Строковое и официальное представление\n",
        "print(str(f1))    # Ожидаемый вывод: 3/4\n",
        "print(repr(f1))   # Ожидаемый вывод: Fraction(3, 4)"
      ],
      "metadata": {
        "id": "U1UtgDM0xlqJ",
        "colab": {
          "base_uri": "https://localhost:8080/"
        },
        "outputId": "b2512f8d-b5ec-4f51-b3ad-2091a158ed28"
      },
      "execution_count": 33,
      "outputs": [
        {
          "output_type": "stream",
          "name": "stdout",
          "text": [
            "19/12\n",
            "-1/12\n",
            "5/8\n",
            "9/10\n",
            "True\n",
            "False\n",
            "True\n",
            "0.75\n",
            "4/3\n",
            "3/4\n",
            "Знаменатель не может быть нулем\n",
            "3/4\n",
            "Fraction(3, 4)\n"
          ]
        }
      ]
    }
  ]
}