{
  "nbformat": 4,
  "nbformat_minor": 0,
  "metadata": {
    "colab": {
      "provenance": [],
      "include_colab_link": true
    },
    "kernelspec": {
      "name": "python3",
      "display_name": "Python 3"
    },
    "language_info": {
      "name": "python"
    }
  },
  "cells": [
    {
      "cell_type": "markdown",
      "metadata": {
        "id": "view-in-github",
        "colab_type": "text"
      },
      "source": [
        "<a href=\"https://colab.research.google.com/github/Baidunafter/university/blob/main/Tasks/%D0%94%D0%9F%D0%9E_%D0%9E%D1%81%D0%BD%D0%BE%D0%B2%D1%8B_Python_%D0%9F%D1%80%D0%B0%D0%BA%D1%82%D0%B8%D1%87%D0%B5%D1%81%D0%BA%D0%B0%D1%8F_%D1%80%D0%B0%D0%B1%D0%BE%D1%82%D0%B0_3.ipynb\" target=\"_parent\"><img src=\"https://colab.research.google.com/assets/colab-badge.svg\" alt=\"Open In Colab\"/></a>"
      ]
    },
    {
      "cell_type": "markdown",
      "source": [
        "# **Практическая работа №3. Введение в Python. Модули и пакеты**\n",
        "\n",
        "---\n",
        "\n",
        "\n"
      ],
      "metadata": {
        "id": "QliphIp1pbse"
      }
    },
    {
      "cell_type": "markdown",
      "source": [
        "**Обучающийся:** *[Леонов Константин Михайлович]*  "
      ],
      "metadata": {
        "id": "tTK8mNGDqA8Z"
      }
    },
    {
      "cell_type": "markdown",
      "source": [
        "\n",
        "\n",
        "---"
      ],
      "metadata": {
        "id": "wTJjWD61p_dZ"
      }
    },
    {
      "cell_type": "markdown",
      "source": [
        "## **Цель работы:**\n"
      ],
      "metadata": {
        "id": "8sycqVegUH85"
      }
    },
    {
      "cell_type": "markdown",
      "source": [
        "Создать Python-пакет, включающий функции для преобразования координат между декартовой и сферической системами, а также для работы с файлами. Реализовать консольный интерфейс для взаимодействия с функциями пакета."
      ],
      "metadata": {
        "id": "bdHCMBx4UJTb"
      }
    },
    {
      "cell_type": "markdown",
      "source": [
        "## **Задачи:**\n"
      ],
      "metadata": {
        "id": "aziouLamURhA"
      }
    },
    {
      "cell_type": "markdown",
      "source": [
        "1. Создать структуру пакета с необходимыми модулями.\n",
        "2. Реализовать функции для преобразования координат.\n",
        "3. Реализовать функции для работы с файлами.\n",
        "4. Создать файл `__main__.py` с консольным интерфейсом для работы с пакетом.\n",
        "5. Проверить работоспособность пакета на примере."
      ],
      "metadata": {
        "id": "ZyNB5M23US9G"
      }
    },
    {
      "cell_type": "markdown",
      "source": [
        "## **Теоретическая часть:**"
      ],
      "metadata": {
        "id": "AoEP4riFYmrE"
      }
    },
    {
      "cell_type": "markdown",
      "source": [
        "1. **Преобразование декартовых координат в сферические:**\n",
        "\n",
        "   *Формулы для преобразования:*\n",
        "\n",
        "   $\n",
        "   r = \\sqrt{x^2 + y^2 + z^2}\n",
        "   $\n",
        "\n",
        "   - Эта формула вычисляет радиус $r$ от начала координат до точки с координатами $(x, y, z)$ в декартовой системе. Это расстояние в пространстве.\n",
        "\n",
        "   $\n",
        "   \\theta = 2 \\cdot \\text{atan2}(y, x + \\sqrt{x^2 + y^2})\n",
        "   $\n",
        "\n",
        "   - Формула для $\\theta$ (азимутальный угол) использует функцию $\\text{atan2}$, которая возвращает угол в радианах между положительной осью $x$ и точкой $(x, y)$. Умножение на 2 и добавление $\\sqrt{x^2 + y^2}$ в знаменатель обеспечивает корректное определение угла в диапазоне от 0 до $2\\pi$.\n",
        "\n",
        "   $\n",
        "   \\phi = \\text{atan2}(\\sqrt{x^2 + y^2}, z)\n",
        "   $\n",
        "\n",
        "   - Формула для $\\phi$ (полярный угол) также использует $\\text{atan2}$, но здесь она вычисляет угол между положительной осью $z$ и вектором от начала координат до точки. Это значение также получается в радианах.\n",
        "\n",
        "   **Значения $\\theta$ и $\\phi$ получаются в радианах. Для перевода их в градусы необходимо умножить на $\\frac{180}{\\pi}$.**\n",
        "\n",
        "\n",
        "\n"
      ],
      "metadata": {
        "id": "pEAfpUD_UYNL"
      }
    },
    {
      "cell_type": "markdown",
      "source": [
        "2. **Преобразование сферических координат в декартовые:**\n",
        "\n",
        "  *Формулы для преобразования:*\n",
        "\n",
        "   $\n",
        "   x = r \\cdot \\sin(\\phi) \\cdot \\cos(\\theta)\n",
        "   $\n",
        "   \n",
        "   - Эта формула вычисляет координату $x$ в декартовой системе, используя радиус $r$, полярный угол $\\phi$ и азимутальный угол $\\theta$.\n",
        "\n",
        "   $\n",
        "   y = r \\cdot \\sin(\\phi) \\cdot \\sin(\\theta)\n",
        "   $\n",
        "\n",
        "   - Аналогично, эта формула вычисляет координату $y$ в декартовой системе.\n",
        "\n",
        "   $\n",
        "   z = r \\cdot \\cos(\\phi)\n",
        "   $\n",
        "   \n",
        "   - Эта формула вычисляет координату $z$ в декартовой системе, используя радиус $r$ и полярный угол $\\phi$.\n",
        "\n",
        "   **Значения $\\theta$ и $\\phi$ должны быть заданы в радианах. Если они заданы в градусах, их необходимо предварительно перевести в радианы, умножив на $\\frac{\\pi}{180}$.**"
      ],
      "metadata": {
        "id": "PNgijVwBZQxC"
      }
    },
    {
      "cell_type": "markdown",
      "source": [
        "3. **Преобразование между градусами и радианами:**\n",
        "\n",
        "   $\n",
        "   \\text{градусы} \\rightarrow \\text{радианы}: \\text{degrees} \\cdot \\frac{\\pi}{180}\n",
        "   $\n",
        "   - Эта формула используется для перевода углов из градусов в радианы.\n",
        "\n",
        "   $\n",
        "   \\text{радианы} \\rightarrow \\text{градусы}: \\text{radians} \\cdot \\frac{180}{\\pi}\n",
        "   $\n",
        "   - Эта формула используется для перевода углов из радиан в градусы."
      ],
      "metadata": {
        "id": "km-P3kvIZOo9"
      }
    },
    {
      "cell_type": "code",
      "source": [
        "import math\n",
        "\n",
        "# Пример расчета синуса и косинуса от угла в градусах\n",
        "angle_degrees = 45  # Угол в градусах\n",
        "\n",
        "# Преобразование градусов в радианы\n",
        "angle_radians = math.radians(angle_degrees)\n",
        "\n",
        "# Расчет синуса и косинуса\n",
        "sin_value = math.sin(angle_radians)\n",
        "cos_value = math.cos(angle_radians)\n",
        "\n",
        "print(f\"Синус {angle_degrees} градусов: {sin_value}\")\n",
        "print(f\"Косинус {angle_degrees} градусов: {cos_value}\")"
      ],
      "metadata": {
        "colab": {
          "base_uri": "https://localhost:8080/"
        },
        "id": "UbLbordBWolF",
        "outputId": "76c01191-4e14-414a-fe9e-525c4c02d7e9"
      },
      "execution_count": null,
      "outputs": [
        {
          "output_type": "stream",
          "name": "stdout",
          "text": [
            "Синус 45 градусов: 0.7071067811865475\n",
            "Косинус 45 градусов: 0.7071067811865476\n"
          ]
        }
      ]
    },
    {
      "cell_type": "code",
      "source": [
        "# Пример расчета atan2 и преобразования результата в градусы\n",
        "y = 1\n",
        "x = 5\n",
        "\n",
        "# Расчет atan2 в радианах\n",
        "atan2_radians = math.atan2(y, x)\n",
        "\n",
        "# Преобразование результата atan2 в градусы\n",
        "atan2_degrees = math.degrees(atan2_radians)\n",
        "\n",
        "print(f\"atan2({y}, {x}) в радианах: {atan2_radians}\")\n",
        "print(f\"atan2({y}, {x}) в градусах: {atan2_degrees}\")"
      ],
      "metadata": {
        "colab": {
          "base_uri": "https://localhost:8080/"
        },
        "id": "r6gfmCU2XN-j",
        "outputId": "2f3f2c65-d4de-441a-e28c-9c1950468817"
      },
      "execution_count": null,
      "outputs": [
        {
          "output_type": "stream",
          "name": "stdout",
          "text": [
            "atan2(1, 5) в радианах: 0.19739555984988075\n",
            "atan2(1, 5) в градусах: 11.309932474020213\n"
          ]
        }
      ]
    },
    {
      "cell_type": "markdown",
      "source": [
        "\n",
        "\n",
        "## **Практическая часть:**\n",
        "\n"
      ],
      "metadata": {
        "id": "xjcf5dryT4q6"
      }
    },
    {
      "cell_type": "markdown",
      "source": [
        "1. **Создание структуры пакета:**\n",
        "   Создайте директорию `geo_transform` и в ней следующие файлы:\n",
        "   - `__init__.py`\n",
        "   - `transformations.py`\n",
        "   - `utils.py`\n",
        "   - `file_operations.py`\n",
        "   - `__main__.py`\n",
        "\n",
        "2. **Реализация функций преобразования координат:**\n",
        "   В файле `transformations.py` реализуйте функции `cartesian_to_spherical` и `spherical_to_cartesian` с использованием приведенных выше формул.\n",
        "\n",
        "3. **Реализация вспомогательных функций:**\n",
        "   В файле `utils.py` реализуйте функции `deg_to_rad` и `rad_to_deg`.\n",
        "\n",
        "4. **Реализация функций для работы с файлами:**\n",
        "   В файле `file_operations.py` реализуйте функции `write_results_to_file` и `read_coordinates_from_file` для записи и чтения координат из текстовых файлов.\n",
        "\n",
        "5. **Создание `__init__.py`:**\n",
        "   В файле `__init__.py` добавьте импорты всех необходимых функций из других модулей.\n",
        "\n",
        "6. **Реализация консольного интерфейса в `__main__.py`:**\n",
        "   В файле `__main__.py` реализуйте консольный интерфейс для работы с функциями пакета.\n",
        "\n",
        "7. **Проверка работоспособности пакета:**\n",
        "   Запустите пакет как отдельную программу. Проверьте все функции через консольный интерфейс. Импортируйте пакет в стороннем модуле, убедитесь, что все функции работают корректно."
      ],
      "metadata": {
        "id": "3DlYz5qrVG-C"
      }
    },
    {
      "cell_type": "markdown",
      "source": [
        "\n",
        "\n",
        "## **Демонстрация результата:**\n",
        "\n"
      ],
      "metadata": {
        "id": "iIyfPBIGbPdQ"
      }
    },
    {
      "cell_type": "markdown",
      "source": [
        "Вставьте код каждого из ваших модулей в соответствующие ячейки ниже.\n",
        "\n",
        "**Строку, начинающуюся на %%writefile... стирать запрещено**"
      ],
      "metadata": {
        "id": "1ARiSwg3bKML"
      }
    },
    {
      "cell_type": "markdown",
      "source": [
        "### **Содержимое модуля \\_\\_init__.py:**"
      ],
      "metadata": {
        "id": "kcPKYl5abzNp"
      }
    },
    {
      "cell_type": "code",
      "source": [
        "!mkdir geo_transform"
      ],
      "metadata": {
        "id": "T5t41w-tbD5I"
      },
      "execution_count": 1,
      "outputs": []
    },
    {
      "cell_type": "code",
      "source": [
        "%%writefile geo_transform/__init__.py\n",
        "\n",
        "from .transformations import cartesian_to_spherical, spherical_to_cartesian\n",
        "from .utils import deg_to_rad, rad_to_deg\n",
        "from .file_operations import write_results_to_file, read_coordinates_from_file\n",
        "\n",
        "__all__ = [\n",
        "    'cartesian_to_spherical',\n",
        "    'spherical_to_cartesian',\n",
        "    'deg_to_rad',\n",
        "    'rad_to_deg',\n",
        "    'write_results_to_file',\n",
        "    'read_coordinates_from_file'\n",
        "]"
      ],
      "metadata": {
        "id": "p_UraYekagmv",
        "colab": {
          "base_uri": "https://localhost:8080/"
        },
        "outputId": "d3f6fc7d-9606-4b42-86f6-16ac1988e0ef"
      },
      "execution_count": 2,
      "outputs": [
        {
          "output_type": "stream",
          "name": "stdout",
          "text": [
            "Writing geo_transform/__init__.py\n"
          ]
        }
      ]
    },
    {
      "cell_type": "markdown",
      "source": [
        "### **Содержимое модуля transformations.py:**"
      ],
      "metadata": {
        "id": "GfgJWdI7cHoW"
      }
    },
    {
      "cell_type": "code",
      "source": [
        "%%writefile geo_transform/transformations.py\n",
        "\n",
        "from math import atan2, pow, sqrt, sin, cos\n",
        "\n",
        "\n",
        "def cartesian_to_spherical(x: float, y: float, z: float, ) -> tuple:\n",
        "    r = sqrt(pow(x, 2) + pow(y, 2) + pow(z, 2))\n",
        "    theta = 2 * atan2(y, x + sqrt(pow(x, 2) + pow(y, 2)))\n",
        "    phi = atan2(pow(x, 2) + pow(y, 2), z)\n",
        "    return r, theta, phi\n",
        "\n",
        "def spherical_to_cartesian(r: float, phi: float, theta: float) -> tuple:\n",
        "    x = r * sin(phi) * cos(theta)\n",
        "    y = r * sin(phi) * sin(theta)\n",
        "    z = r * cos(phi)\n",
        "    return x, y, z"
      ],
      "metadata": {
        "id": "PEwM6HmucHoX",
        "colab": {
          "base_uri": "https://localhost:8080/"
        },
        "outputId": "a0252bf0-df68-471f-8ad7-f778f2f07815"
      },
      "execution_count": 3,
      "outputs": [
        {
          "output_type": "stream",
          "name": "stdout",
          "text": [
            "Writing geo_transform/transformations.py\n"
          ]
        }
      ]
    },
    {
      "cell_type": "markdown",
      "source": [
        "### **Содержимое модуля utils.py:**"
      ],
      "metadata": {
        "id": "tw_9FXFkcIBq"
      }
    },
    {
      "cell_type": "code",
      "source": [
        "%%writefile geo_transform/utils.py\n",
        "\n",
        "from math import pi\n",
        "\n",
        "def deg_to_rad(degrees: float) -> float:\n",
        "    return degrees * pi / 180\n",
        "\n",
        "def rad_to_deg(radians: float) -> float:\n",
        "    return radians * 180 / pi"
      ],
      "metadata": {
        "id": "y96uQcmTcIBr",
        "colab": {
          "base_uri": "https://localhost:8080/"
        },
        "outputId": "3078838a-6e35-44ed-e42f-76f4924ab171"
      },
      "execution_count": 4,
      "outputs": [
        {
          "output_type": "stream",
          "name": "stdout",
          "text": [
            "Writing geo_transform/utils.py\n"
          ]
        }
      ]
    },
    {
      "cell_type": "markdown",
      "source": [
        "### **Содержимое модуля file_operations.py:**"
      ],
      "metadata": {
        "id": "kmYf0AOwcIOg"
      }
    },
    {
      "cell_type": "code",
      "source": [
        "%%writefile geo_transform/file_operations.py\n",
        "\n",
        "def write_results_to_file(file_path: str, data: str):\n",
        "    with open(file_path, 'w', encoding='utf-8') as file:\n",
        "        for item in data:\n",
        "            file.write(f'{item}\\n')\n",
        "\n",
        "def read_coordinates_from_file(file_path: str) -> list:\n",
        "    coordinates = []\n",
        "    with open(file_path, 'r', encoding='utf-8') as file:\n",
        "        for line in file:\n",
        "            coordinates.append(tuple(map(float, line.strip().split(','))))\n",
        "    return coordinates\n"
      ],
      "metadata": {
        "id": "HkmXurkjcIOg",
        "colab": {
          "base_uri": "https://localhost:8080/"
        },
        "outputId": "a4fe9a51-30bf-45fd-e7de-4d1dd01e5a15"
      },
      "execution_count": 5,
      "outputs": [
        {
          "output_type": "stream",
          "name": "stdout",
          "text": [
            "Writing geo_transform/file_operations.py\n"
          ]
        }
      ]
    },
    {
      "cell_type": "markdown",
      "source": [
        "### **Содержимое модуля \\_\\_main__.py:**"
      ],
      "metadata": {
        "id": "qUQb0g_RcaUd"
      }
    },
    {
      "cell_type": "code",
      "source": [
        "%%writefile geo_transform/__main__.py\n",
        "\n",
        "import transformations\n",
        "import utils\n",
        "import file_operations\n",
        "\n",
        "\n",
        "def show():\n",
        "    print(\"\\n\" + \"=\" * 40)\n",
        "    print(\"       ПРЕОБРАЗОВАНИЕ КООРДИНАТ\")\n",
        "    print(\"=\" * 40)\n",
        "    print(\"1. Декартовы → Сферические\")\n",
        "    print(\"2. Сферические → Декартовы\")\n",
        "    print(\"3. Чтение координат из файла\")\n",
        "    print(\"4. Запись результатов в файл\")\n",
        "    print(\"5. Выход\")\n",
        "    print(\"=\" * 40)\n",
        "\n",
        "\n",
        "def get_input_method():\n",
        "    print(\"\\nВыберите способ ввода:\")\n",
        "    print(\"1 - Ввести координаты вручную\")\n",
        "    print(\"2 - Прочитать координаты из файла\")\n",
        "    choice = input(\"Ваш выбор (1/2): \").strip()\n",
        "    return choice\n",
        "\n",
        "\n",
        "def process_coordinates_from_file(filename, conversion_type, coord_type):\n",
        "    coordinates = file_operations.read_coordinates_from_file(filename)\n",
        "\n",
        "    if not coordinates:\n",
        "        print(\"Не удалось прочитать координаты из файла\")\n",
        "        return []\n",
        "\n",
        "    results = []\n",
        "    print(f\"\\nРезультаты преобразования ({len(coordinates)} координат):\")\n",
        "    print(\"-\" * 50)\n",
        "\n",
        "    for i, coords in enumerate(coordinates, 1):\n",
        "        try:\n",
        "            if conversion_type == 'cart2sph' and len(coords) == 3:\n",
        "                x, y, z = coords\n",
        "                r, theta_rad, phi_rad = transformations.cartesian_to_spherical(x, y, z)\n",
        "                theta_deg = utils.rad_to_deg(theta_rad)\n",
        "                phi_deg = utils.rad_to_deg(phi_rad)\n",
        "\n",
        "                result_str = f\"({x},{y},{z}) -> r={r:.4f}, θ={theta_deg:.2f}°, φ={phi_deg:.2f}°\"\n",
        "                results.append((x, y, z, r, theta_deg, phi_deg))\n",
        "                print(f\"{i}. {result_str}\")\n",
        "\n",
        "            elif conversion_type == 'sph2cart' and len(coords) == 3:\n",
        "                r, theta_deg, phi_deg = coords\n",
        "                theta_rad = utils.deg_to_rad(theta_deg)\n",
        "                phi_rad = utils.deg_to_rad(phi_deg)\n",
        "                x, y, z = transformations.spherical_to_cartesian(r, theta_rad, phi_rad)\n",
        "\n",
        "                result_str = f\"({r},{theta_deg}°,{phi_deg}°) -> x={x:.4f}, y={y:.4f}, z={z:.4f}\"\n",
        "                results.append((r, theta_deg, phi_deg, x, y, z))\n",
        "                print(f\"{i}. {result_str}\")\n",
        "\n",
        "        except Exception as e:\n",
        "            print(f\"Ошибка при преобразовании координат {i}: {coords} - {e}\")\n",
        "\n",
        "    return results\n",
        "\n",
        "\n",
        "def cartesian_to_spherical_interactive():\n",
        "    input_method = get_input_method()\n",
        "\n",
        "    if input_method == '1':\n",
        "        try:\n",
        "            coords_input = input(\"Введите декартовы координаты (x,y,z): \").strip()\n",
        "            x, y, z = map(float, coords_input.split(','))\n",
        "\n",
        "            r, theta_rad, phi_rad = transformations.cartesian_to_spherical(x, y, z)\n",
        "            theta_deg = utils.rad_to_deg(theta_rad)\n",
        "            phi_deg = utils.rad_to_deg(phi_rad)\n",
        "\n",
        "            print(f\"\\nРезультат преобразования:\")\n",
        "            print(f\"Декартовы: x={x}, y={y}, z={z}\")\n",
        "            print(f\"Сферические: r={r:.4f}, θ={theta_deg:.2f}°, φ={phi_deg:.2f}°\")\n",
        "            print(f\"Сферические (радианы): r={r:.4f}, θ={theta_rad:.4f}, φ={phi_rad:.4f}\")\n",
        "\n",
        "            save = input(\"\\nЗаписать результат в файл? (y/n): \").strip().lower()\n",
        "            if save == 'y':\n",
        "                filename = input(\"Введите имя файла: \").strip()\n",
        "                result_data = [\n",
        "                    f\"Декартовы: ({x},{y},{z}) -> Сферические: (r={r:.4f}, θ={theta_deg:.2f}°, φ={phi_deg:.2f}°)\"]\n",
        "                file_operations.write_results_to_file(filename, result_data)\n",
        "                print(f\"Результат записан в {filename}\")\n",
        "\n",
        "            return [(x, y, z, r, theta_deg, phi_deg)]\n",
        "\n",
        "        except ValueError:\n",
        "            print(\"Ошибка: введите три числа через запятую (например: 1,2,3)\")\n",
        "            return []\n",
        "        except Exception as e:\n",
        "            print(f\"Ошибка преобразования: {e}\")\n",
        "            return []\n",
        "\n",
        "    elif input_method == '2':\n",
        "        filename = input(\"Введите имя файла с декартовыми координатами: \").strip()\n",
        "        results = process_coordinates_from_file(filename, 'cart2sph', 'cartesian')\n",
        "\n",
        "        if results:\n",
        "            save = input(\"\\nЗаписать все результаты в файл? (y/n): \").strip().lower()\n",
        "            if save == 'y':\n",
        "                output_filename = input(\"Введите имя файла для результатов: \").strip()\n",
        "                result_data = []\n",
        "                for x, y, z, r, theta_deg, phi_deg in results:\n",
        "                    result_data.append(f\"({x}, {y}, {z}) -> (r={r:.4f},θ={theta_deg:.2f}°,φ={phi_deg:.2f}°)\")\n",
        "\n",
        "                file_operations.write_results_to_file(output_filename, result_data)\n",
        "                print(f\"Все результаты записаны в {output_filename}\")\n",
        "\n",
        "        return results\n",
        "\n",
        "    else:\n",
        "        print(\"Неверный выбор\")\n",
        "        return []\n",
        "\n",
        "\n",
        "def spherical_to_cartesian_interactive():\n",
        "    input_method = get_input_method()\n",
        "\n",
        "    if input_method == '1':\n",
        "        try:\n",
        "            r = float(input(\"Введите радиус r: \"))\n",
        "            theta_deg = float(input(\"Введите полярный угол θ в градусах: \"))\n",
        "            phi_deg = float(input(\"Введите азимутальный угол φ в градусах: \"))\n",
        "\n",
        "            theta_rad = utils.deg_to_rad(theta_deg)\n",
        "            phi_rad = utils.deg_to_rad(phi_deg)\n",
        "\n",
        "            x, y, z = transformations.spherical_to_cartesian(r, theta_rad, phi_rad)\n",
        "\n",
        "            print(f\"\\nРезультат преобразования:\")\n",
        "            print(f\"Сферические: r={r}, θ={theta_deg}°, φ={phi_deg}°\")\n",
        "            print(f\"Декартовы: x={x:.4f}, y={y:.4f}, z={z:.4f}\")\n",
        "\n",
        "            # Предложить запись в файл\n",
        "            save = input(\"\\nЗаписать результат в файл? (y/n): \").strip().lower()\n",
        "            if save == 'y':\n",
        "                filename = input(\"Введите имя файла: \").strip()\n",
        "                result_data = [\n",
        "                    f\"Сферические: ({r},{theta_deg}°,{phi_deg}°) -> Декартовы: (x={x:.4f}, y={y:.4f}, z={z:.4f})\"]\n",
        "                file_operations.write_results_to_file(filename, result_data)\n",
        "                print(f\"Результат записан в {filename}\")\n",
        "\n",
        "            return [(r, theta_deg, phi_deg, x, y, z)]\n",
        "\n",
        "        except ValueError:\n",
        "            print(\"Ошибка: введите числовые значения\")\n",
        "            return []\n",
        "        except Exception as e:\n",
        "            print(f\"Ошибка преобразования: {e}\")\n",
        "            return []\n",
        "\n",
        "    elif input_method == '2':\n",
        "        filename = input(\"Введите имя файла со сферическими координатами: \").strip()\n",
        "        results = process_coordinates_from_file(filename, 'sph2cart', 'spherical')\n",
        "\n",
        "        if results:\n",
        "            save = input(\"\\nЗаписать все результаты в файл? (y/n): \").strip().lower()\n",
        "            if save == 'y':\n",
        "                output_filename = input(\"Введите имя файла для результатов: \").strip()\n",
        "                result_data = []\n",
        "                for r, theta_deg, phi_deg, x, y, z in results:\n",
        "                    result_data.append(f\"({r},{theta_deg}°,{phi_deg}°) -> (x={x:.4f},y={y:.4f},z={z:.4f})\")\n",
        "\n",
        "                file_operations.write_results_to_file(output_filename, result_data)\n",
        "                print(f\"Все результаты записаны в {output_filename}\")\n",
        "\n",
        "        return results\n",
        "\n",
        "    else:\n",
        "        print(\"Неверный выбор\")\n",
        "        return []\n",
        "\n",
        "\n",
        "def read_from_file_interactive():\n",
        "    filename = input(\"Введите имя файла: \").strip()\n",
        "    coordinates = file_operations.read_coordinates_from_file(filename)\n",
        "\n",
        "    if coordinates:\n",
        "        print(f\"\\nНайдено {len(coordinates)} координат:\")\n",
        "        for i, coord in enumerate(coordinates, 1):\n",
        "            print(f\"{i}. {coord}\")\n",
        "        return coordinates\n",
        "    else:\n",
        "        print(\"Координаты не найдены или файл пуст\")\n",
        "        return []\n",
        "\n",
        "\n",
        "def write_to_file_interactive():\n",
        "    filename = input(\"Введите имя файла: \").strip()\n",
        "\n",
        "    print(\"Введите данные для записи (пустая строка для завершения):\")\n",
        "    data = []\n",
        "    while True:\n",
        "        line = input().strip()\n",
        "        if not line:\n",
        "            break\n",
        "        data.append(line)\n",
        "\n",
        "    if data:\n",
        "        success = file_operations.write_results_to_file(filename, data)\n",
        "        if success:\n",
        "            print(f\"Данные успешно записаны в файл '{filename}'\")\n",
        "        return success\n",
        "    else:\n",
        "        print(\"Нет данных для записи\")\n",
        "        return False\n",
        "\n",
        "\n",
        "def main():\n",
        "    while True:\n",
        "        show()\n",
        "        choice = input(\"Выберите операцию (1-5): \").strip()\n",
        "\n",
        "        if choice == '1':\n",
        "            cartesian_to_spherical_interactive()\n",
        "\n",
        "        elif choice == '2':\n",
        "            spherical_to_cartesian_interactive()\n",
        "\n",
        "        elif choice == '3':\n",
        "            read_from_file_interactive()\n",
        "\n",
        "        elif choice == '4':\n",
        "            write_to_file_interactive()\n",
        "\n",
        "        elif choice == '5':\n",
        "            print(\"До свидания!\")\n",
        "            break\n",
        "\n",
        "        else:\n",
        "            print(\"Неверный выбор.\")\n",
        "\n",
        "\n",
        "if __name__ == \"__main__\":\n",
        "    main()"
      ],
      "metadata": {
        "id": "qzNV09hfcaUe",
        "colab": {
          "base_uri": "https://localhost:8080/"
        },
        "outputId": "541a77b3-65b3-4382-a493-79aa163cf4c1"
      },
      "execution_count": 6,
      "outputs": [
        {
          "output_type": "stream",
          "name": "stdout",
          "text": [
            "Writing geo_transform/__main__.py\n"
          ]
        }
      ]
    },
    {
      "cell_type": "markdown",
      "source": [
        "### **Содержимое модуля main.py (с импортом пакета и тестированием функций из него):**"
      ],
      "metadata": {
        "id": "vGqPXMcdcpxE"
      }
    },
    {
      "cell_type": "code",
      "source": [
        "from geo_transform import *\n",
        "\n",
        "# Тестируем преобразование градусов в радианы и обратно\n",
        "deg = 180\n",
        "rad = deg_to_rad(deg)\n",
        "back_to_deg = rad_to_deg(rad)\n",
        "print(f\"deg_to_rad({deg}) = {rad}\")\n",
        "print(f\"rad_to_deg({rad}) = {back_to_deg}\")\n",
        "\n",
        "# Тестируем преобразование декартовых в сферические координаты\n",
        "x, y, z = 1, 1, 1\n",
        "r, theta_rad, phi_rad = cartesian_to_spherical(x, y, z)\n",
        "theta_deg = rad_to_deg(theta_rad)\n",
        "phi_deg = rad_to_deg(phi_rad)\n",
        "print(f\"cartesian_to_spherical({x}, {y}, {z}) = ({r}, {theta_deg}, {phi_deg})\")\n",
        "\n",
        "# Тестируем преобразование сферических в декартовы координаты\n",
        "r, theta_deg, phi_deg = 2, 45, 60\n",
        "theta_rad = deg_to_rad(theta_deg)\n",
        "phi_rad = deg_to_rad(phi_deg)\n",
        "x, y, z = spherical_to_cartesian(r, theta_rad, phi_rad)\n",
        "print(f\"spherical_to_cartesian({r}, {theta_deg}, {phi_deg}) = ({x}, {y}, {z})\")\n",
        "\n",
        "# Тестируем запись в файл\n",
        "test_data = [\"1,0,0\", \"0,1,0\", \"0,0,1\"]\n",
        "write_results_to_file(\"test_output.txt\", test_data)\n",
        "print(\"write_results_to_file создан\")\n",
        "\n",
        "# Тестируем чтение из файла\n",
        "coordinates = read_coordinates_from_file(\"test_output.txt\")\n",
        "print(f\"read_coordinates_from_file = {coordinates}\")"
      ],
      "metadata": {
        "id": "4b1mRDL6cpxE",
        "colab": {
          "base_uri": "https://localhost:8080/"
        },
        "outputId": "1d57cfff-dff3-41a6-8992-3c376f0e283d"
      },
      "execution_count": 7,
      "outputs": [
        {
          "output_type": "stream",
          "name": "stdout",
          "text": [
            "deg_to_rad(180) = 3.141592653589793\n",
            "rad_to_deg(3.141592653589793) = 180.0\n",
            "cartesian_to_spherical(1, 1, 1) = (1.7320508075688772, 45.00000000000001, 63.43494882292201)\n",
            "spherical_to_cartesian(2, 45, 60) = (0.7071067811865476, 1.224744871391589, 1.4142135623730951)\n",
            "write_results_to_file создан\n",
            "read_coordinates_from_file = [(1.0, 0.0, 0.0), (0.0, 1.0, 0.0), (0.0, 0.0, 1.0)]\n"
          ]
        }
      ]
    }
  ]
}